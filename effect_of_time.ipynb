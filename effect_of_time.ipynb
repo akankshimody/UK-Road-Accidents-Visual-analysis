{
 "cells": [
  {
   "cell_type": "code",
   "execution_count": 1,
   "metadata": {},
   "outputs": [
    {
     "name": "stdout",
     "output_type": "stream",
     "text": [
      "Populating the interactive namespace from numpy and matplotlib\n"
     ]
    }
   ],
   "source": [
    "import numpy as np\n",
    "import pandas as pd\n",
    "%pylab inline\n",
    "from datetime import datetime\n",
    "import seaborn as sns"
   ]
  },
  {
   "cell_type": "code",
   "execution_count": 2,
   "metadata": {},
   "outputs": [],
   "source": [
    "traffic = pd.read_csv('ukTrafficAADF.csv', low_memory=False)"
   ]
  },
  {
   "cell_type": "code",
   "execution_count": 3,
   "metadata": {},
   "outputs": [
    {
     "data": {
      "text/plain": [
       "array(['AADFYear', 'CP', 'Estimation_method',\n",
       "       'Estimation_method_detailed', 'Region', 'LocalAuthority', 'Road',\n",
       "       'RoadCategory', 'Easting', 'Northing', 'StartJunction',\n",
       "       'EndJunction', 'LinkLength_km', 'LinkLength_miles', 'PedalCycles',\n",
       "       'Motorcycles', 'CarsTaxis', 'BusesCoaches', 'LightGoodsVehicles',\n",
       "       'V2AxleRigidHGV', 'V3AxleRigidHGV', 'V4or5AxleRigidHGV',\n",
       "       'V3or4AxleArticHGV', 'V5AxleArticHGV', 'V6orMoreAxleArticHGV',\n",
       "       'AllHGVs', 'AllMotorVehicles', 'Lat', 'Lon'], dtype=object)"
      ]
     },
     "execution_count": 3,
     "metadata": {},
     "output_type": "execute_result"
    }
   ],
   "source": [
    "traffic.columns.values"
   ]
  },
  {
   "cell_type": "code",
   "execution_count": 4,
   "metadata": {},
   "outputs": [],
   "source": [
    "traffic['Total Vehicles'] = traffic['PedalCycles'] + traffic['Motorcycles'] + traffic['CarsTaxis'] + traffic['BusesCoaches'] + traffic['LightGoodsVehicles'] + traffic['V2AxleRigidHGV'] + traffic['V3AxleRigidHGV']  + traffic['V4or5AxleRigidHGV'] + traffic['V3or4AxleArticHGV'] + traffic['V5AxleArticHGV'] ++ traffic['V6orMoreAxleArticHGV'] + traffic['AllHGVs'] + traffic['AllMotorVehicles']"
   ]
  },
  {
   "cell_type": "code",
   "execution_count": 5,
   "metadata": {},
   "outputs": [],
   "source": [
    "traffic05_14 = traffic [ (traffic['AADFYear'] == 2005) | (traffic['AADFYear'] == 2006) | (traffic['AADFYear'] == 2007) | (traffic['AADFYear'] == 2009) | (traffic['AADFYear'] == 2010) | (traffic['AADFYear'] == 2011) | (traffic['AADFYear'] == 2012) | (traffic['AADFYear'] == 2013) | (traffic['AADFYear'] == 2014)]"
   ]
  },
  {
   "cell_type": "code",
   "execution_count": 6,
   "metadata": {},
   "outputs": [],
   "source": [
    "traffic05_14.reset_index().drop('index', axis=1, inplace=True)"
   ]
  },
  {
   "cell_type": "code",
   "execution_count": 7,
   "metadata": {},
   "outputs": [],
   "source": [
    "traffic_YearWise = traffic05_14.groupby('AADFYear')['Total Vehicles'].agg('sum')"
   ]
  },
  {
   "cell_type": "code",
   "execution_count": 8,
   "metadata": {},
   "outputs": [],
   "source": [
    "distance = traffic05_14.groupby('AADFYear')['LinkLength_km'].agg('sum')"
   ]
  },
  {
   "cell_type": "code",
   "execution_count": 9,
   "metadata": {},
   "outputs": [
    {
     "data": {
      "text/plain": [
       "AADFYear\n",
       "2005    44981.58\n",
       "2006    45065.95\n",
       "2007    45027.05\n",
       "2009    45041.50\n",
       "2010    44981.20\n",
       "2011    45020.80\n",
       "2012    45089.41\n",
       "2013    45115.98\n",
       "2014    45150.08\n",
       "Name: LinkLength_km, dtype: float64"
      ]
     },
     "execution_count": 9,
     "metadata": {},
     "output_type": "execute_result"
    }
   ],
   "source": [
    "distance"
   ]
  },
  {
   "cell_type": "code",
   "execution_count": 10,
   "metadata": {},
   "outputs": [],
   "source": [
    "traff_perc =(traffic_YearWise/sum(traffic_YearWise))*100"
   ]
  },
  {
   "cell_type": "code",
   "execution_count": null,
   "metadata": {},
   "outputs": [],
   "source": []
  },
  {
   "cell_type": "code",
   "execution_count": null,
   "metadata": {
    "scrolled": true
   },
   "outputs": [],
   "source": []
  },
  {
   "cell_type": "code",
   "execution_count": 13,
   "metadata": {},
   "outputs": [],
   "source": [
    "# Reading csv files corresponding to different years to 3 dataframes and dropping duplicates\n",
    "accidents_12_14 = pd.read_csv('accidents_2012_to_2014.csv', low_memory=False)\n",
    "accidents_09_11 = pd.read_csv('accidents_2009_to_2011.csv', low_memory=False)\n",
    "accidents_05_07 = pd.read_csv('accidents_2005_to_2007.csv', low_memory=False)\n",
    "accidents_12_14 = accidents_12_14.drop_duplicates()\n",
    "accidents_09_11 = accidents_09_11.drop_duplicates()\n",
    "accidents_05_07 = accidents_05_07.drop_duplicates()"
   ]
  },
  {
   "cell_type": "code",
   "execution_count": 14,
   "metadata": {},
   "outputs": [],
   "source": [
    "# Concatenating 3 data frames to a single one\n",
    "accidents = pd.concat([accidents_05_07, accidents_09_11, accidents_12_14])"
   ]
  },
  {
   "cell_type": "code",
   "execution_count": 15,
   "metadata": {},
   "outputs": [
    {
     "data": {
      "text/html": [
       "<div>\n",
       "<style scoped>\n",
       "    .dataframe tbody tr th:only-of-type {\n",
       "        vertical-align: middle;\n",
       "    }\n",
       "\n",
       "    .dataframe tbody tr th {\n",
       "        vertical-align: top;\n",
       "    }\n",
       "\n",
       "    .dataframe thead th {\n",
       "        text-align: right;\n",
       "    }\n",
       "</style>\n",
       "<table border=\"1\" class=\"dataframe\">\n",
       "  <thead>\n",
       "    <tr style=\"text-align: right;\">\n",
       "      <th></th>\n",
       "      <th>Accident_Index</th>\n",
       "      <th>Location_Easting_OSGR</th>\n",
       "      <th>Location_Northing_OSGR</th>\n",
       "      <th>Longitude</th>\n",
       "      <th>Latitude</th>\n",
       "      <th>Police_Force</th>\n",
       "      <th>Accident_Severity</th>\n",
       "      <th>Number_of_Vehicles</th>\n",
       "      <th>Number_of_Casualties</th>\n",
       "      <th>Date</th>\n",
       "      <th>...</th>\n",
       "      <th>Pedestrian_Crossing-Physical_Facilities</th>\n",
       "      <th>Light_Conditions</th>\n",
       "      <th>Weather_Conditions</th>\n",
       "      <th>Road_Surface_Conditions</th>\n",
       "      <th>Special_Conditions_at_Site</th>\n",
       "      <th>Carriageway_Hazards</th>\n",
       "      <th>Urban_or_Rural_Area</th>\n",
       "      <th>Did_Police_Officer_Attend_Scene_of_Accident</th>\n",
       "      <th>LSOA_of_Accident_Location</th>\n",
       "      <th>Year</th>\n",
       "    </tr>\n",
       "  </thead>\n",
       "  <tbody>\n",
       "    <tr>\n",
       "      <th>0</th>\n",
       "      <td>200501BS00001</td>\n",
       "      <td>525680.0</td>\n",
       "      <td>178240.0</td>\n",
       "      <td>-0.191170</td>\n",
       "      <td>51.489096</td>\n",
       "      <td>1</td>\n",
       "      <td>2</td>\n",
       "      <td>1</td>\n",
       "      <td>1</td>\n",
       "      <td>04/01/2005</td>\n",
       "      <td>...</td>\n",
       "      <td>Zebra crossing</td>\n",
       "      <td>Daylight: Street light present</td>\n",
       "      <td>Raining without high winds</td>\n",
       "      <td>Wet/Damp</td>\n",
       "      <td>None</td>\n",
       "      <td>None</td>\n",
       "      <td>1</td>\n",
       "      <td>Yes</td>\n",
       "      <td>E01002849</td>\n",
       "      <td>2005</td>\n",
       "    </tr>\n",
       "    <tr>\n",
       "      <th>1</th>\n",
       "      <td>200501BS00002</td>\n",
       "      <td>524170.0</td>\n",
       "      <td>181650.0</td>\n",
       "      <td>-0.211708</td>\n",
       "      <td>51.520075</td>\n",
       "      <td>1</td>\n",
       "      <td>3</td>\n",
       "      <td>1</td>\n",
       "      <td>1</td>\n",
       "      <td>05/01/2005</td>\n",
       "      <td>...</td>\n",
       "      <td>Pedestrian phase at traffic signal junction</td>\n",
       "      <td>Darkness: Street lights present and lit</td>\n",
       "      <td>Fine without high winds</td>\n",
       "      <td>Dry</td>\n",
       "      <td>None</td>\n",
       "      <td>None</td>\n",
       "      <td>1</td>\n",
       "      <td>Yes</td>\n",
       "      <td>E01002909</td>\n",
       "      <td>2005</td>\n",
       "    </tr>\n",
       "  </tbody>\n",
       "</table>\n",
       "<p>2 rows × 33 columns</p>\n",
       "</div>"
      ],
      "text/plain": [
       "  Accident_Index  Location_Easting_OSGR  Location_Northing_OSGR  Longitude  \\\n",
       "0  200501BS00001               525680.0                178240.0  -0.191170   \n",
       "1  200501BS00002               524170.0                181650.0  -0.211708   \n",
       "\n",
       "    Latitude  Police_Force  Accident_Severity  Number_of_Vehicles  \\\n",
       "0  51.489096             1                  2                   1   \n",
       "1  51.520075             1                  3                   1   \n",
       "\n",
       "   Number_of_Casualties        Date  ...  \\\n",
       "0                     1  04/01/2005  ...   \n",
       "1                     1  05/01/2005  ...   \n",
       "\n",
       "       Pedestrian_Crossing-Physical_Facilities  \\\n",
       "0                               Zebra crossing   \n",
       "1  Pedestrian phase at traffic signal junction   \n",
       "\n",
       "                          Light_Conditions          Weather_Conditions  \\\n",
       "0           Daylight: Street light present  Raining without high winds   \n",
       "1  Darkness: Street lights present and lit     Fine without high winds   \n",
       "\n",
       "  Road_Surface_Conditions  Special_Conditions_at_Site  Carriageway_Hazards  \\\n",
       "0                Wet/Damp                        None                 None   \n",
       "1                     Dry                        None                 None   \n",
       "\n",
       "  Urban_or_Rural_Area  Did_Police_Officer_Attend_Scene_of_Accident  \\\n",
       "0                   1                                          Yes   \n",
       "1                   1                                          Yes   \n",
       "\n",
       "   LSOA_of_Accident_Location  Year  \n",
       "0                  E01002849  2005  \n",
       "1                  E01002909  2005  \n",
       "\n",
       "[2 rows x 33 columns]"
      ]
     },
     "execution_count": 15,
     "metadata": {},
     "output_type": "execute_result"
    }
   ],
   "source": [
    "accidents.head(2)"
   ]
  },
  {
   "cell_type": "code",
   "execution_count": 16,
   "metadata": {},
   "outputs": [
    {
     "data": {
      "text/plain": [
       "Accident_Index                                       0\n",
       "Location_Easting_OSGR                              101\n",
       "Location_Northing_OSGR                             101\n",
       "Longitude                                          101\n",
       "Latitude                                           101\n",
       "Police_Force                                         0\n",
       "Accident_Severity                                    0\n",
       "Number_of_Vehicles                                   0\n",
       "Number_of_Casualties                                 0\n",
       "Date                                                 0\n",
       "Day_of_Week                                          0\n",
       "Time                                               117\n",
       "Local_Authority_(District)                           0\n",
       "Local_Authority_(Highway)                            0\n",
       "1st_Road_Class                                       0\n",
       "1st_Road_Number                                      0\n",
       "Road_Type                                            0\n",
       "Speed_limit                                          0\n",
       "Junction_Detail                                1469995\n",
       "Junction_Control                                591821\n",
       "2nd_Road_Class                                       0\n",
       "2nd_Road_Number                                      0\n",
       "Pedestrian_Crossing-Human_Control                   17\n",
       "Pedestrian_Crossing-Physical_Facilities             34\n",
       "Light_Conditions                                     0\n",
       "Weather_Conditions                                 126\n",
       "Road_Surface_Conditions                           1945\n",
       "Special_Conditions_at_Site                          15\n",
       "Carriageway_Hazards                                 29\n",
       "Urban_or_Rural_Area                                  0\n",
       "Did_Police_Officer_Attend_Scene_of_Accident       2922\n",
       "LSOA_of_Accident_Location                       108235\n",
       "Year                                                 0\n",
       "dtype: int64"
      ]
     },
     "execution_count": 16,
     "metadata": {},
     "output_type": "execute_result"
    }
   ],
   "source": [
    "accidents.isnull().sum()"
   ]
  },
  {
   "cell_type": "code",
   "execution_count": 17,
   "metadata": {},
   "outputs": [],
   "source": [
    "accidents['Accident_Severity'].replace([1, 2, 3],['Fatal', 'Severe', 'Slight'], inplace=True)\n",
    "accidents['Day_of_Week'].replace([1,2,3,4,5,6,7],['Sunday', 'Monday', 'Tuesday', 'Wednesday', 'Thursday', 'Friday', 'Saturday'], inplace=True)"
   ]
  },
  {
   "cell_type": "code",
   "execution_count": 18,
   "metadata": {},
   "outputs": [
    {
     "name": "stdout",
     "output_type": "stream",
     "text": [
      "<class 'pandas.core.frame.DataFrame'>\n",
      "Int64Index: 1469995 entries, 0 to 464696\n",
      "Data columns (total 33 columns):\n",
      "Accident_Index                                 1469995 non-null object\n",
      "Location_Easting_OSGR                          1469894 non-null float64\n",
      "Location_Northing_OSGR                         1469894 non-null float64\n",
      "Longitude                                      1469894 non-null float64\n",
      "Latitude                                       1469894 non-null float64\n",
      "Police_Force                                   1469995 non-null int64\n",
      "Accident_Severity                              1469995 non-null object\n",
      "Number_of_Vehicles                             1469995 non-null int64\n",
      "Number_of_Casualties                           1469995 non-null int64\n",
      "Date                                           1469995 non-null object\n",
      "Day_of_Week                                    1469995 non-null object\n",
      "Time                                           1469878 non-null object\n",
      "Local_Authority_(District)                     1469995 non-null int64\n",
      "Local_Authority_(Highway)                      1469995 non-null object\n",
      "1st_Road_Class                                 1469995 non-null int64\n",
      "1st_Road_Number                                1469995 non-null int64\n",
      "Road_Type                                      1469995 non-null object\n",
      "Speed_limit                                    1469995 non-null int64\n",
      "Junction_Detail                                0 non-null float64\n",
      "Junction_Control                               878174 non-null object\n",
      "2nd_Road_Class                                 1469995 non-null int64\n",
      "2nd_Road_Number                                1469995 non-null int64\n",
      "Pedestrian_Crossing-Human_Control              1469978 non-null object\n",
      "Pedestrian_Crossing-Physical_Facilities        1469961 non-null object\n",
      "Light_Conditions                               1469995 non-null object\n",
      "Weather_Conditions                             1469869 non-null object\n",
      "Road_Surface_Conditions                        1468050 non-null object\n",
      "Special_Conditions_at_Site                     1469980 non-null object\n",
      "Carriageway_Hazards                            1469966 non-null object\n",
      "Urban_or_Rural_Area                            1469995 non-null int64\n",
      "Did_Police_Officer_Attend_Scene_of_Accident    1467073 non-null object\n",
      "LSOA_of_Accident_Location                      1361760 non-null object\n",
      "Year                                           1469995 non-null int64\n",
      "dtypes: float64(5), int64(11), object(17)\n",
      "memory usage: 381.3+ MB\n"
     ]
    }
   ],
   "source": [
    "accidents.info()"
   ]
  },
  {
   "cell_type": "code",
   "execution_count": 19,
   "metadata": {},
   "outputs": [],
   "source": [
    "# Deleted the column with NO details\n",
    "accidents.drop('Junction_Detail', axis=1, inplace=True)\n",
    "\n",
    "# Filling NA values for location as 0.0\n",
    "accidents['Location_Easting_OSGR'].fillna(0.0, inplace=True)\n",
    "accidents['Location_Northing_OSGR'].fillna(0.0, inplace=True)\n",
    "accidents['Longitude'].fillna(0.0, inplace=True)\n",
    "accidents['Latitude'].fillna(0.0, inplace=True)"
   ]
  },
  {
   "cell_type": "code",
   "execution_count": 20,
   "metadata": {},
   "outputs": [],
   "source": [
    "# Filling missing values for categorical variables\n",
    "accidents['Junction_Control'].fillna('Unknown', inplace=True)\n",
    "accidents['Pedestrian_Crossing-Human_Control'].fillna('Unknown', inplace=True)\n",
    "accidents['Pedestrian_Crossing-Physical_Facilities'].fillna('Unknown', inplace=True)\n",
    "accidents['Weather_Conditions'].fillna('Unknown', inplace=True)\n",
    "accidents['Road_Surface_Conditions'].fillna('Unknown', inplace=True)\n",
    "accidents['Special_Conditions_at_Site'].fillna('Unknown', inplace=True)\n",
    "accidents['Carriageway_Hazards'].fillna('Unknown', inplace=True)\n",
    "accidents['Did_Police_Officer_Attend_Scene_of_Accident'].fillna('Unknown', inplace=True)\n",
    "accidents['LSOA_of_Accident_Location'].fillna('Unknown', inplace=True)"
   ]
  },
  {
   "cell_type": "code",
   "execution_count": 21,
   "metadata": {},
   "outputs": [
    {
     "data": {
      "text/plain": [
       "14"
      ]
     },
     "execution_count": 21,
     "metadata": {},
     "output_type": "execute_result"
    }
   ],
   "source": [
    "# Find the mean value of the Hour in Time colums\n",
    "t = accidents['Time'].map(str).map(lambda x: x.split(':')[0])\n",
    "t = t[t != 'nan'].map(int)\n",
    "int(ceil(t.mean()))"
   ]
  },
  {
   "cell_type": "code",
   "execution_count": 22,
   "metadata": {},
   "outputs": [],
   "source": [
    "# Adding a new column 'hour' and replacing the 'nans' with the mean value\n",
    "accidents['Hour'] = accidents['Time'].map(str).map(lambda x: x.split(':')[0])\n",
    "accidents['Hour'].replace('nan', 14, inplace= True)\n",
    "accidents['Hour'] = accidents['Hour'].map(int)\n",
    "accidents.drop('Time', inplace=True, axis=1)"
   ]
  },
  {
   "cell_type": "code",
   "execution_count": 23,
   "metadata": {},
   "outputs": [],
   "source": [
    "# Converting Date column into Date time\n",
    "accidents['Date'] = pd.to_datetime(accidents['Date'], dayfirst=True)"
   ]
  },
  {
   "cell_type": "code",
   "execution_count": 24,
   "metadata": {},
   "outputs": [],
   "source": [
    "# Function to check if the weather is windy or not\n",
    "def isWindy(weather):\n",
    "    if 'with high winds' in weather:\n",
    "        return 'Yes'\n",
    "    elif 'without high winds' in weather:\n",
    "        return 'No'\n",
    "    else:\n",
    "        return \"Unknown\""
   ]
  },
  {
   "cell_type": "code",
   "execution_count": 25,
   "metadata": {},
   "outputs": [],
   "source": [
    "# Adding a new column to capture the effect of wind separately\n",
    "accidents['Wind'] = accidents['Weather_Conditions'].map(isWindy)"
   ]
  },
  {
   "cell_type": "code",
   "execution_count": 26,
   "metadata": {},
   "outputs": [],
   "source": [
    "# Splitting Weather Conditions and taking the first word. Adding a new column\n",
    "accidents['Weather_Conditions'] = accidents['Weather_Conditions'].map(lambda x: x.split()[0])\n",
    "accidents['Weather_Conditions'].replace('Other', 'Unknown', inplace=True)"
   ]
  },
  {
   "cell_type": "code",
   "execution_count": 27,
   "metadata": {},
   "outputs": [],
   "source": [
    "accidents = accidents.reset_index().drop('index', axis=1)"
   ]
  },
  {
   "cell_type": "code",
   "execution_count": 28,
   "metadata": {},
   "outputs": [
    {
     "data": {
      "text/plain": [
       "(1469995, 33)"
      ]
     },
     "execution_count": 28,
     "metadata": {},
     "output_type": "execute_result"
    }
   ],
   "source": [
    "accidents.shape"
   ]
  },
  {
   "cell_type": "code",
   "execution_count": 29,
   "metadata": {},
   "outputs": [
    {
     "name": "stdout",
     "output_type": "stream",
     "text": [
      "<class 'pandas.core.frame.DataFrame'>\n",
      "RangeIndex: 1469995 entries, 0 to 1469994\n",
      "Data columns (total 33 columns):\n",
      "Accident_Index                                 1469995 non-null object\n",
      "Location_Easting_OSGR                          1469995 non-null float64\n",
      "Location_Northing_OSGR                         1469995 non-null float64\n",
      "Longitude                                      1469995 non-null float64\n",
      "Latitude                                       1469995 non-null float64\n",
      "Police_Force                                   1469995 non-null int64\n",
      "Accident_Severity                              1469995 non-null object\n",
      "Number_of_Vehicles                             1469995 non-null int64\n",
      "Number_of_Casualties                           1469995 non-null int64\n",
      "Date                                           1469995 non-null datetime64[ns]\n",
      "Day_of_Week                                    1469995 non-null object\n",
      "Local_Authority_(District)                     1469995 non-null int64\n",
      "Local_Authority_(Highway)                      1469995 non-null object\n",
      "1st_Road_Class                                 1469995 non-null int64\n",
      "1st_Road_Number                                1469995 non-null int64\n",
      "Road_Type                                      1469995 non-null object\n",
      "Speed_limit                                    1469995 non-null int64\n",
      "Junction_Control                               1469995 non-null object\n",
      "2nd_Road_Class                                 1469995 non-null int64\n",
      "2nd_Road_Number                                1469995 non-null int64\n",
      "Pedestrian_Crossing-Human_Control              1469995 non-null object\n",
      "Pedestrian_Crossing-Physical_Facilities        1469995 non-null object\n",
      "Light_Conditions                               1469995 non-null object\n",
      "Weather_Conditions                             1469995 non-null object\n",
      "Road_Surface_Conditions                        1469995 non-null object\n",
      "Special_Conditions_at_Site                     1469995 non-null object\n",
      "Carriageway_Hazards                            1469995 non-null object\n",
      "Urban_or_Rural_Area                            1469995 non-null int64\n",
      "Did_Police_Officer_Attend_Scene_of_Accident    1469995 non-null object\n",
      "LSOA_of_Accident_Location                      1469995 non-null object\n",
      "Year                                           1469995 non-null int64\n",
      "Hour                                           1469995 non-null int64\n",
      "Wind                                           1469995 non-null object\n",
      "dtypes: datetime64[ns](1), float64(4), int64(12), object(16)\n",
      "memory usage: 370.1+ MB\n"
     ]
    }
   ],
   "source": [
    "accidents.info()"
   ]
  },
  {
   "cell_type": "code",
   "execution_count": null,
   "metadata": {},
   "outputs": [],
   "source": [
    "# All nulls have been removed\n",
    "accidents.isna().any().sum()"
   ]
  },
  {
   "cell_type": "code",
   "execution_count": null,
   "metadata": {},
   "outputs": [],
   "source": [
    "# accidents.to_csv('accidents.csv')"
   ]
  },
  {
   "cell_type": "code",
   "execution_count": 30,
   "metadata": {},
   "outputs": [],
   "source": [
    "accidents_YearWise = accidents['Year'].value_counts().sort_index()\n",
    "accidents_perc = (accidents_YearWise/sum(accidents_YearWise)) * 100"
   ]
  },
  {
   "cell_type": "code",
   "execution_count": 31,
   "metadata": {},
   "outputs": [],
   "source": [
    "traffic = pd.read_csv('ukTrafficAADF.csv', low_memory=False)\n",
    "\n",
    "traffic.columns.values\n",
    "\n",
    "traffic['Total Vehicles'] = traffic['PedalCycles'] + traffic['Motorcycles'] + traffic['CarsTaxis'] + traffic['BusesCoaches'] + traffic['LightGoodsVehicles'] + traffic['V2AxleRigidHGV'] + traffic['V3AxleRigidHGV']  + traffic['V4or5AxleRigidHGV'] + traffic['V3or4AxleArticHGV'] + traffic['V5AxleArticHGV'] ++ traffic['V6orMoreAxleArticHGV'] + traffic['AllHGVs'] + traffic['AllMotorVehicles']\n",
    "\n",
    "traffic05_14 = traffic [ (traffic['AADFYear'] == 2005) | (traffic['AADFYear'] == 2006) | (traffic['AADFYear'] == 2007) | (traffic['AADFYear'] == 2009) | (traffic['AADFYear'] == 2010) | (traffic['AADFYear'] == 2011) | (traffic['AADFYear'] == 2012) | (traffic['AADFYear'] == 2013) | (traffic['AADFYear'] == 2014)]\n",
    "\n",
    "traffic05_14.reset_index().drop('index', axis=1, inplace=True)\n",
    "\n",
    "traffic_YearWise = traffic05_14.groupby('AADFYear')['Total Vehicles'].agg('sum')\n",
    "traff_perc =(traffic_YearWise/sum(traffic_YearWise))*100"
   ]
  },
  {
   "cell_type": "code",
   "execution_count": 32,
   "metadata": {},
   "outputs": [
    {
     "data": {
      "image/png": "[encoded data removed]",
      "text/plain": [
       "<Figure size 864x432 with 1 Axes>"
      ]
     },
     "metadata": {
      "needs_background": "light"
     },
     "output_type": "display_data"
    }
   ],
   "source": [
    "plt.figure(figsize=(12,6))\n",
    "sns.lineplot(data=accidents_YearWise, marker='o', markerfacecolor='red', dashes=False, markersize=10)\n",
    "plt.title('Accidents count year-wise')\n",
    "plt.xlabel('Year')\n",
    "plt.ylabel('Number of Accidents')\n",
    "plt.xticks(list(range(2005,2015)))\n",
    "plt.grid()"
   ]
  },
  {
   "cell_type": "code",
   "execution_count": 33,
   "metadata": {},
   "outputs": [
    {
     "data": {
      "text/plain": [
       "Text(0,0.5,'Accident %')"
      ]
     },
     "execution_count": 33,
     "metadata": {},
     "output_type": "execute_result"
    },
    {
     "data": {
      "image/png": "[encoded data removed]",
      "text/plain": [
       "<Figure size 864x432 with 1 Axes>"
      ]
     },
     "metadata": {},
     "output_type": "display_data"
    }
   ],
   "source": [
    "plt.figure(figsize=(12,6), facecolor='#DBEDD8')\n",
    "sns.lineplot(data=traff_perc, marker='o', markerfacecolor='red', dashes=False, markersize=10, label='Traffic')\n",
    "sns.lineplot(data=accidents_perc, marker='o', markerfacecolor='red', dashes=False, markersize=10, label='Accidents')\n",
    "plt.legend()\n",
    "plt.grid()\n",
    "plt.xlabel('Year')\n",
    "plt.ylabel('Accident %')"
   ]
  },
  {
   "cell_type": "markdown",
   "metadata": {},
   "source": [
    "# Here we can see that accidents with low severity dominates in count"
   ]
  },
  {
   "cell_type": "code",
   "execution_count": 34,
   "metadata": {},
   "outputs": [
    {
     "data": {
      "image/png": "[encoded data removed]",
      "text/plain": [
       "<Figure size 720x432 with 1 Axes>"
      ]
     },
     "metadata": {
      "needs_background": "light"
     },
     "output_type": "display_data"
    }
   ],
   "source": [
    "plt.figure(figsize=(10,6))\n",
    "accidents['Accident_Severity'].value_counts().plot(kind='bar')\n",
    "plt.grid()"
   ]
  },
  {
   "cell_type": "code",
   "execution_count": 35,
   "metadata": {},
   "outputs": [],
   "source": [
    "severity_count = accidents['Accident_Severity'].value_counts()"
   ]
  },
  {
   "cell_type": "code",
   "execution_count": 37,
   "metadata": {},
   "outputs": [
    {
     "data": {
      "text/plain": [
       "Text(0.5,1,'Accident Severity')"
      ]
     },
     "execution_count": 37,
     "metadata": {},
     "output_type": "execute_result"
    },
    {
     "data": {
      "image/png": "[encoded data removed]",
      "text/plain": [
       "<Figure size 720x432 with 1 Axes>"
      ]
     },
     "metadata": {},
     "output_type": "display_data"
    }
   ],
   "source": [
    "plt.figure(figsize=(10,6))\n",
    "colors = ['green', 'orange', 'red']\n",
    "labels = ['Slight', 'Severe', 'Fatal']\n",
    "plt.pie(severity_count, labels=labels, colors=colors, autopct='%1.1f%%', shadow=True)\n",
    "centre_circle = plt.Circle((0,0),0.75,color='black', fc='white',linewidth=1.25)\n",
    "fig = plt.gcf()\n",
    "fig.gca().add_artist(centre_circle)\n",
    "plt.title('Accident Severity')"
   ]
  },
  {
   "cell_type": "markdown",
   "metadata": {},
   "source": [
    "We will now analyze the trend of the severe and fatal accidents"
   ]
  },
  {
   "cell_type": "code",
   "execution_count": 38,
   "metadata": {},
   "outputs": [],
   "source": [
    "severe_accidents = accidents[(accidents['Accident_Severity'] == 'Fatal') | (accidents['Accident_Severity'] == 'Severe')]"
   ]
  },
  {
   "cell_type": "code",
   "execution_count": 39,
   "metadata": {},
   "outputs": [
    {
     "data": {
      "text/plain": [
       "Severe    198920\n",
       "Fatal      19041\n",
       "Name: Accident_Severity, dtype: int64"
      ]
     },
     "execution_count": 39,
     "metadata": {},
     "output_type": "execute_result"
    }
   ],
   "source": [
    "severe_accidents['Accident_Severity'].value_counts()"
   ]
  },
  {
   "cell_type": "markdown",
   "metadata": {},
   "source": [
    "Trend of Severe and Fata Accidents across years"
   ]
  },
  {
   "cell_type": "code",
   "execution_count": 40,
   "metadata": {},
   "outputs": [],
   "source": [
    "fatal_severe_yearwise = pd.pivot_table(severe_accidents, index='Year', columns='Accident_Severity', values='Accident_Index', aggfunc='count')"
   ]
  },
  {
   "cell_type": "code",
   "execution_count": 41,
   "metadata": {},
   "outputs": [
    {
     "data": {
      "text/plain": [
       "Text(0.5,1,'Severe Accidents')"
      ]
     },
     "execution_count": 41,
     "metadata": {},
     "output_type": "execute_result"
    },
    {
     "data": {
      "image/png": "[encoded data removed]",
      "text/plain": [
       "<Figure size 720x432 with 1 Axes>"
      ]
     },
     "metadata": {
      "needs_background": "light"
     },
     "output_type": "display_data"
    }
   ],
   "source": [
    "plt.figure(figsize=(10,6))\n",
    "plot(fatal_severe_yearwise['Severe'], marker='o', markerfacecolor='red', label='Severe')\n",
    "plt.legend()\n",
    "plt.grid()\n",
    "plt.xlabel('Year')\n",
    "plt.ylabel('Number of Accidents')\n",
    "plt.title('Severe Accidents')"
   ]
  },
  {
   "cell_type": "code",
   "execution_count": 42,
   "metadata": {},
   "outputs": [
    {
     "data": {
      "text/plain": [
       "Text(0.5,1,'Fatal Accidents')"
      ]
     },
     "execution_count": 42,
     "metadata": {},
     "output_type": "execute_result"
    },
    {
     "data": {
      "image/png": "[encoded data removed]",
      "text/plain": [
       "<Figure size 720x432 with 1 Axes>"
      ]
     },
     "metadata": {
      "needs_background": "light"
     },
     "output_type": "display_data"
    }
   ],
   "source": [
    "plt.figure(figsize=(10,6))\n",
    "plot(fatal_severe_yearwise['Fatal'], marker='o', markerfacecolor='red', label='Fatal')\n",
    "plt.legend()\n",
    "plt.grid()\n",
    "plt.xlabel('Year')\n",
    "plt.ylabel('Number of Accidents')\n",
    "plt.title('Fatal Accidents')"
   ]
  },
  {
   "cell_type": "code",
   "execution_count": 43,
   "metadata": {},
   "outputs": [
    {
     "data": {
      "text/plain": [
       "Text(0,0.5,'Number of Accidents')"
      ]
     },
     "execution_count": 43,
     "metadata": {},
     "output_type": "execute_result"
    },
    {
     "data": {
      "image/png": "[encoded data removed]",
      "text/plain": [
       "<Figure size 720x432 with 1 Axes>"
      ]
     },
     "metadata": {
      "needs_background": "light"
     },
     "output_type": "display_data"
    }
   ],
   "source": [
    "plt.figure(figsize=(10,6))\n",
    "severe_accidents['Accident_Severity'].value_counts().plot(kind='bar')\n",
    "plt.grid()\n",
    "plt.ylabel('Number of Accidents')"
   ]
  },
  {
   "cell_type": "markdown",
   "metadata": {},
   "source": [
    "Severe accidents count by month"
   ]
  },
  {
   "cell_type": "code",
   "execution_count": 44,
   "metadata": {},
   "outputs": [
    {
     "name": "stderr",
     "output_type": "stream",
     "text": [
      "C:\\Users\\rocki\\Anaconda2\\lib\\site-packages\\ipykernel_launcher.py:1: SettingWithCopyWarning: \n",
      "A value is trying to be set on a copy of a slice from a DataFrame.\n",
      "Try using .loc[row_indexer,col_indexer] = value instead\n",
      "\n",
      "See the caveats in the documentation: http://pandas.pydata.org/pandas-docs/stable/indexing.html#indexing-view-versus-copy\n",
      "  \"\"\"Entry point for launching an IPython kernel.\n",
      "C:\\Users\\rocki\\Anaconda2\\lib\\site-packages\\pandas\\core\\generic.py:6586: SettingWithCopyWarning: \n",
      "A value is trying to be set on a copy of a slice from a DataFrame\n",
      "\n",
      "See the caveats in the documentation: http://pandas.pydata.org/pandas-docs/stable/indexing.html#indexing-view-versus-copy\n",
      "  self._update_inplace(new_data)\n"
     ]
    }
   ],
   "source": [
    "severe_accidents['Month'] = severe_accidents['Date'].map(lambda x: x.month)\n",
    "severe_accidents['Month'].replace([1,2,3,4,5,6,7,8,9,10,11,12], ['Jan', 'Feb', 'Mar', 'Apr', 'May', 'Jun', 'Jul', 'Aug', 'Sep', 'Oct', 'Nov', 'Dec'], inplace=True)"
   ]
  },
  {
   "cell_type": "code",
   "execution_count": 45,
   "metadata": {},
   "outputs": [],
   "source": [
    "severe = severe_accidents[severe_accidents['Accident_Severity'] == 'Severe']\n",
    "fatal = severe_accidents[severe_accidents['Accident_Severity'] == 'Fatal']"
   ]
  },
  {
   "cell_type": "markdown",
   "metadata": {},
   "source": [
    "# Trend by Month"
   ]
  },
  {
   "cell_type": "code",
   "execution_count": 46,
   "metadata": {},
   "outputs": [
    {
     "data": {
      "text/plain": [
       "Text(0,0.5,'Number of Severe Accidents')"
      ]
     },
     "execution_count": 46,
     "metadata": {},
     "output_type": "execute_result"
    },
    {
     "data": {
      "image/png": "[encoded data removed]",
      "text/plain": [
       "<Figure size 720x432 with 1 Axes>"
      ]
     },
     "metadata": {
      "needs_background": "light"
     },
     "output_type": "display_data"
    }
   ],
   "source": [
    "plt.figure(figsize=(10,6))\n",
    "severe_accidents['Month'].value_counts().plot(kind='bar', stacked=True)\n",
    "plt.grid()\n",
    "plt.xlabel('Month')\n",
    "plt.ylabel('Number of Severe Accidents')"
   ]
  },
  {
   "cell_type": "markdown",
   "metadata": {},
   "source": [
    "Only Severe"
   ]
  },
  {
   "cell_type": "code",
   "execution_count": null,
   "metadata": {},
   "outputs": [],
   "source": [
    "plt.figure(figsize=(10,6))\n",
    "severe['Month'].value_counts().plot(kind='bar', stacked=True)\n",
    "plt.grid()\n",
    "plt.xlabel('Month')\n",
    "plt.ylabel('Number of Severe Accidents')"
   ]
  },
  {
   "cell_type": "code",
   "execution_count": null,
   "metadata": {},
   "outputs": [],
   "source": [
    "plt.figure(figsize=(10,6))\n",
    "fatal['Month'].value_counts().plot(kind='bar', stacked=True)\n",
    "plt.grid()\n",
    "plt.xlabel('Month')\n",
    "plt.ylabel('Number of Severe Accidents')"
   ]
  },
  {
   "cell_type": "code",
   "execution_count": null,
   "metadata": {},
   "outputs": [],
   "source": [
    "severe_monthwise = pd.pivot_table(severe_accidents, index='Month', columns='Accident_Severity', values='Accident_Index', aggfunc='count')"
   ]
  },
  {
   "cell_type": "code",
   "execution_count": null,
   "metadata": {},
   "outputs": [],
   "source": []
  },
  {
   "cell_type": "code",
   "execution_count": null,
   "metadata": {},
   "outputs": [],
   "source": [
    "severe_monthwise.plot(kind='bar', figsize=(10,6))\n",
    "plt.grid()"
   ]
  },
  {
   "cell_type": "code",
   "execution_count": null,
   "metadata": {},
   "outputs": [],
   "source": [
    "severe_monthwise['Fatal'].plot(kind='bar', figsize=(10,6))\n",
    "plt.grid()"
   ]
  },
  {
   "cell_type": "code",
   "execution_count": null,
   "metadata": {},
   "outputs": [],
   "source": [
    "severe_monthwise['Severe'].plot(kind='bar', figsize=(10,6))\n",
    "plt.grid()"
   ]
  },
  {
   "cell_type": "markdown",
   "metadata": {},
   "source": [
    "# Day of the Week"
   ]
  },
  {
   "cell_type": "code",
   "execution_count": 47,
   "metadata": {},
   "outputs": [
    {
     "data": {
      "image/png": "[encoded data removed]",
      "text/plain": [
       "<Figure size 720x432 with 1 Axes>"
      ]
     },
     "metadata": {
      "needs_background": "light"
     },
     "output_type": "display_data"
    }
   ],
   "source": [
    "plt.figure(figsize=(10,6))\n",
    "severe['Day_of_Week'].value_counts().plot(kind='bar')\n",
    "plt.grid()"
   ]
  },
  {
   "cell_type": "code",
   "execution_count": 48,
   "metadata": {},
   "outputs": [
    {
     "data": {
      "image/png": "[encoded data removed]",
      "text/plain": [
       "<Figure size 720x432 with 1 Axes>"
      ]
     },
     "metadata": {
      "needs_background": "light"
     },
     "output_type": "display_data"
    }
   ],
   "source": [
    "plt.figure(figsize=(10,6))\n",
    "fatal['Day_of_Week'].value_counts().plot(kind='bar')\n",
    "plt.grid()"
   ]
  },
  {
   "cell_type": "code",
   "execution_count": 49,
   "metadata": {},
   "outputs": [
    {
     "data": {
      "image/png": "[encoded data removed]",
      "text/plain": [
       "<Figure size 720x432 with 1 Axes>"
      ]
     },
     "metadata": {
      "needs_background": "light"
     },
     "output_type": "display_data"
    }
   ],
   "source": [
    "plt.figure(figsize=(10,6))\n",
    "severe_accidents['Day_of_Week'].value_counts().plot(kind='bar')\n",
    "plt.grid()"
   ]
  },
  {
   "cell_type": "markdown",
   "metadata": {},
   "source": [
    "# Trend Based on hour"
   ]
  },
  {
   "cell_type": "code",
   "execution_count": 50,
   "metadata": {},
   "outputs": [
    {
     "data": {
      "image/png": "[encoded data removed]",
      "text/plain": [
       "<Figure size 720x432 with 1 Axes>"
      ]
     },
     "metadata": {
      "needs_background": "light"
     },
     "output_type": "display_data"
    }
   ],
   "source": [
    "plt.figure(figsize=(10,6))\n",
    "severe['Hour'].value_counts().sort_index().plot(kind='bar')\n",
    "plt.grid()"
   ]
  },
  {
   "cell_type": "code",
   "execution_count": 51,
   "metadata": {},
   "outputs": [
    {
     "data": {
      "image/png": "[encoded data removed]",
      "text/plain": [
       "<Figure size 720x432 with 1 Axes>"
      ]
     },
     "metadata": {
      "needs_background": "light"
     },
     "output_type": "display_data"
    }
   ],
   "source": [
    "plt.figure(figsize=(10,6))\n",
    "fatal['Hour'].value_counts().sort_index().plot(kind='bar')\n",
    "plt.grid()"
   ]
  },
  {
   "cell_type": "code",
   "execution_count": 52,
   "metadata": {},
   "outputs": [
    {
     "data": {
      "image/png": "[encoded data removed]",
      "text/plain": [
       "<Figure size 720x432 with 1 Axes>"
      ]
     },
     "metadata": {
      "needs_background": "light"
     },
     "output_type": "display_data"
    }
   ],
   "source": [
    "plt.figure(figsize=(10,6))\n",
    "severe_accidents['Hour'].value_counts().sort_index().plot(kind='bar')\n",
    "plt.grid()"
   ]
  },
  {
   "cell_type": "code",
   "execution_count": 53,
   "metadata": {},
   "outputs": [
    {
     "data": {
      "text/plain": [
       "array(['Tuesday', 'Thursday', 'Saturday', 'Wednesday', 'Friday', 'Monday',\n",
       "       'Sunday'], dtype=object)"
      ]
     },
     "execution_count": 53,
     "metadata": {},
     "output_type": "execute_result"
    }
   ],
   "source": [
    "severe_accidents['Day_of_Week'].unique()"
   ]
  },
  {
   "cell_type": "code",
   "execution_count": 54,
   "metadata": {},
   "outputs": [],
   "source": [
    "df = pd.pivot_table(severe_accidents, index='Hour', columns='Day_of_Week', values='Accident_Index', aggfunc='count')"
   ]
  },
  {
   "cell_type": "markdown",
   "metadata": {},
   "source": [
    "# Trend across days with hour"
   ]
  },
  {
   "cell_type": "code",
   "execution_count": 55,
   "metadata": {},
   "outputs": [],
   "source": [
    "Monday = severe_accidents[severe_accidents['Day_of_Week'] == 'Monday']\n",
    "Tuesday = severe_accidents[severe_accidents['Day_of_Week'] == 'Tuesday']\n",
    "Wednesday = severe_accidents[severe_accidents['Day_of_Week'] == 'Wednesday']\n",
    "Thursday = severe_accidents[severe_accidents['Day_of_Week'] == 'Thursday']\n",
    "Friday = severe_accidents[severe_accidents['Day_of_Week'] == 'Friday']\n",
    "Saturday = severe_accidents[severe_accidents['Day_of_Week'] == 'Saturday']\n",
    "Sunday = severe_accidents[severe_accidents['Day_of_Week'] == 'Sunday']"
   ]
  },
  {
   "cell_type": "code",
   "execution_count": 56,
   "metadata": {},
   "outputs": [],
   "source": [
    "weekdays = pd.concat([Monday, Tuesday, Wednesday, Thursday, Friday])\n",
    "weekends = pd.concat([Saturday, Sunday])"
   ]
  },
  {
   "cell_type": "markdown",
   "metadata": {},
   "source": [
    "# Obs1:# \n",
    "There is an increase in the % of accidents on Weekdays 3PM to 5PM. We dont observe this during Weekends. Traffic more. People returning from work ?"
   ]
  },
  {
   "cell_type": "markdown",
   "metadata": {},
   "source": [
    "# Obs2:#\n",
    "Relative to weekdays, oberving high % during late night and early morning hours. Possible drunk and drive ?"
   ]
  },
  {
   "cell_type": "code",
   "execution_count": 57,
   "metadata": {},
   "outputs": [],
   "source": [
    "weekdays = pd.concat([Monday, Tuesday, Wednesday, Thursday, Friday])\n",
    "weekends = pd.concat([Saturday, Sunday])"
   ]
  },
  {
   "cell_type": "code",
   "execution_count": 58,
   "metadata": {},
   "outputs": [
    {
     "data": {
      "text/html": [
       "<div>\n",
       "<style scoped>\n",
       "    .dataframe tbody tr th:only-of-type {\n",
       "        vertical-align: middle;\n",
       "    }\n",
       "\n",
       "    .dataframe tbody tr th {\n",
       "        vertical-align: top;\n",
       "    }\n",
       "\n",
       "    .dataframe thead th {\n",
       "        text-align: right;\n",
       "    }\n",
       "</style>\n",
       "<table border=\"1\" class=\"dataframe\">\n",
       "  <thead>\n",
       "    <tr style=\"text-align: right;\">\n",
       "      <th></th>\n",
       "      <th>Accident_Index</th>\n",
       "      <th>Location_Easting_OSGR</th>\n",
       "      <th>Location_Northing_OSGR</th>\n",
       "      <th>Longitude</th>\n",
       "      <th>Latitude</th>\n",
       "      <th>Police_Force</th>\n",
       "      <th>Accident_Severity</th>\n",
       "      <th>Number_of_Vehicles</th>\n",
       "      <th>Number_of_Casualties</th>\n",
       "      <th>Date</th>\n",
       "      <th>...</th>\n",
       "      <th>Road_Surface_Conditions</th>\n",
       "      <th>Special_Conditions_at_Site</th>\n",
       "      <th>Carriageway_Hazards</th>\n",
       "      <th>Urban_or_Rural_Area</th>\n",
       "      <th>Did_Police_Officer_Attend_Scene_of_Accident</th>\n",
       "      <th>LSOA_of_Accident_Location</th>\n",
       "      <th>Year</th>\n",
       "      <th>Hour</th>\n",
       "      <th>Wind</th>\n",
       "      <th>Month</th>\n",
       "    </tr>\n",
       "  </thead>\n",
       "  <tbody>\n",
       "    <tr>\n",
       "      <th>19</th>\n",
       "      <td>200501BS00022</td>\n",
       "      <td>526790.0</td>\n",
       "      <td>178980.0</td>\n",
       "      <td>-0.174925</td>\n",
       "      <td>51.495498</td>\n",
       "      <td>1</td>\n",
       "      <td>Severe</td>\n",
       "      <td>1</td>\n",
       "      <td>1</td>\n",
       "      <td>2005-01-08</td>\n",
       "      <td>...</td>\n",
       "      <td>Dry</td>\n",
       "      <td>None</td>\n",
       "      <td>None</td>\n",
       "      <td>1</td>\n",
       "      <td>Yes</td>\n",
       "      <td>E01002821</td>\n",
       "      <td>2005</td>\n",
       "      <td>3</td>\n",
       "      <td>No</td>\n",
       "      <td>Jan</td>\n",
       "    </tr>\n",
       "    <tr>\n",
       "      <th>91</th>\n",
       "      <td>200501BS70073</td>\n",
       "      <td>525000.0</td>\n",
       "      <td>180660.0</td>\n",
       "      <td>-0.200102</td>\n",
       "      <td>51.510995</td>\n",
       "      <td>1</td>\n",
       "      <td>Severe</td>\n",
       "      <td>2</td>\n",
       "      <td>1</td>\n",
       "      <td>2005-03-05</td>\n",
       "      <td>...</td>\n",
       "      <td>Wet/Damp</td>\n",
       "      <td>None</td>\n",
       "      <td>None</td>\n",
       "      <td>1</td>\n",
       "      <td>Yes</td>\n",
       "      <td>E01002882</td>\n",
       "      <td>2005</td>\n",
       "      <td>18</td>\n",
       "      <td>No</td>\n",
       "      <td>Mar</td>\n",
       "    </tr>\n",
       "    <tr>\n",
       "      <th>170</th>\n",
       "      <td>200501BS70166</td>\n",
       "      <td>525420.0</td>\n",
       "      <td>179500.0</td>\n",
       "      <td>-0.194465</td>\n",
       "      <td>51.500477</td>\n",
       "      <td>1</td>\n",
       "      <td>Severe</td>\n",
       "      <td>1</td>\n",
       "      <td>1</td>\n",
       "      <td>2005-04-16</td>\n",
       "      <td>...</td>\n",
       "      <td>Dry</td>\n",
       "      <td>None</td>\n",
       "      <td>None</td>\n",
       "      <td>1</td>\n",
       "      <td>Yes</td>\n",
       "      <td>E01002816</td>\n",
       "      <td>2005</td>\n",
       "      <td>20</td>\n",
       "      <td>No</td>\n",
       "      <td>Apr</td>\n",
       "    </tr>\n",
       "  </tbody>\n",
       "</table>\n",
       "<p>3 rows × 34 columns</p>\n",
       "</div>"
      ],
      "text/plain": [
       "    Accident_Index  Location_Easting_OSGR  Location_Northing_OSGR  Longitude  \\\n",
       "19   200501BS00022               526790.0                178980.0  -0.174925   \n",
       "91   200501BS70073               525000.0                180660.0  -0.200102   \n",
       "170  200501BS70166               525420.0                179500.0  -0.194465   \n",
       "\n",
       "      Latitude  Police_Force Accident_Severity  Number_of_Vehicles  \\\n",
       "19   51.495498             1            Severe                   1   \n",
       "91   51.510995             1            Severe                   2   \n",
       "170  51.500477             1            Severe                   1   \n",
       "\n",
       "     Number_of_Casualties       Date  ... Road_Surface_Conditions  \\\n",
       "19                      1 2005-01-08  ...                     Dry   \n",
       "91                      1 2005-03-05  ...                Wet/Damp   \n",
       "170                     1 2005-04-16  ...                     Dry   \n",
       "\n",
       "     Special_Conditions_at_Site Carriageway_Hazards  Urban_or_Rural_Area  \\\n",
       "19                         None                None                    1   \n",
       "91                         None                None                    1   \n",
       "170                        None                None                    1   \n",
       "\n",
       "     Did_Police_Officer_Attend_Scene_of_Accident LSOA_of_Accident_Location  \\\n",
       "19                                           Yes                 E01002821   \n",
       "91                                           Yes                 E01002882   \n",
       "170                                          Yes                 E01002816   \n",
       "\n",
       "     Year Hour  Wind  Month  \n",
       "19   2005    3    No    Jan  \n",
       "91   2005   18    No    Mar  \n",
       "170  2005   20    No    Apr  \n",
       "\n",
       "[3 rows x 34 columns]"
      ]
     },
     "execution_count": 58,
     "metadata": {},
     "output_type": "execute_result"
    }
   ],
   "source": [
    "weekends.head(3)"
   ]
  },
  {
   "cell_type": "code",
   "execution_count": 59,
   "metadata": {},
   "outputs": [],
   "source": [
    "weekday_index = np.sort( weekdays['Hour'].unique())\n",
    "weekend_index = np.sort( weekends['Hour'].unique())\n",
    "\n",
    "weekday_values = weekdays['Hour'].value_counts().sort_index()\n",
    "weekend_values = weekends['Hour'].value_counts().sort_index()\n",
    "weekday_values = (weekday_values/weekday_values.sum())*100\n",
    "weekend_values = (weekend_values/weekend_values.sum())*100"
   ]
  },
  {
   "cell_type": "code",
   "execution_count": null,
   "metadata": {},
   "outputs": [],
   "source": []
  },
  {
   "cell_type": "code",
   "execution_count": 68,
   "metadata": {},
   "outputs": [
    {
     "data": {
      "image/png": "[encoded data removed]",
      "text/plain": [
       "<Figure size 576x864 with 2 Axes>"
      ]
     },
     "metadata": {
      "needs_background": "light"
     },
     "output_type": "display_data"
    }
   ],
   "source": [
    "fig, (ax1, ax2) = subplots(nrows=2,ncols=1,sharex=False,sharey=True,figsize=(8,12))\n",
    "\n",
    "ax1.bar(weekday_index, weekday_values, color='#FB5C0C', alpha=1)\n",
    "ax1.set_title('Weekdays')\n",
    "ax1.set_ylabel('Accidents %')\n",
    "ax1.set_xlabel('Hour of the day')\n",
    "ax1.set_facecolor('white')\n",
    "ax1.set_xticks(list(range(0,24)))\n",
    "ax1.grid()\n",
    "\n",
    "ax2.bar(weekend_index, weekend_values, color='#708BA0')\n",
    "ax2.set_title('Weekends')\n",
    "ax2.set_ylabel('Accidents %')\n",
    "ax2.set_xlabel('Hour of the day')\n",
    "ax2.set_facecolor('white')\n",
    "ax2.set_xticks(list(range(0,24)))\n",
    "ax2.grid()"
   ]
  },
  {
   "cell_type": "code",
   "execution_count": null,
   "metadata": {},
   "outputs": [],
   "source": [
    "plt.figure(figsize=(10,6))\n",
    "sns.scatterplot(x='Number_of_Vehicles', y='Number_of_Casualties',data=severe_accidents, hue='Accident_Severity', style='Accident_Severity', size='Accident_Severity', sizes=[100,50], palette='Dark2') \n",
    "plt.xlim(0,25)\n",
    "plt.ylim(0,60)\n",
    "show()"
   ]
  }
 ],
 "metadata": {
  "kernelspec": {
   "display_name": "Python 3",
   "language": "python",
   "name": "python3"
  },
  "language_info": {
   "codemirror_mode": {
    "name": "ipython",
    "version": 3
   },
   "file_extension": ".py",
   "mimetype": "text/x-python",
   "name": "python",
   "nbconvert_exporter": "python",
   "pygments_lexer": "ipython3",
   "version": "3.7.3"
  }
 },
 "nbformat": 4,
 "nbformat_minor": 2
}
